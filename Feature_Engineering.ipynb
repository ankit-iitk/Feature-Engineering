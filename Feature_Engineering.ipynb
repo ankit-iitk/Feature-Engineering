{
  "nbformat": 4,
  "nbformat_minor": 0,
  "metadata": {
    "colab": {
      "provenance": []
    },
    "kernelspec": {
      "name": "python3",
      "display_name": "Python 3"
    },
    "language_info": {
      "name": "python"
    }
  },
  "cells": [
    {
      "cell_type": "code",
      "execution_count": 1,
      "metadata": {
        "colab": {
          "base_uri": "https://localhost:8080/",
          "height": 70
        },
        "collapsed": true,
        "id": "ruOgmdKdk84n",
        "outputId": "0877b714-6fdb-407f-d160-d6e8a10174b0"
      },
      "outputs": [
        {
          "output_type": "execute_result",
          "data": {
            "text/plain": [
              "'\\nA parameter is a value or a variable that helps define or limit a system, function, or process. A parameter is a constant or a variable that characterizes a system or a function. For example, in an equation like \\ny=mx+b, the slope (m) and the y-intercept (b) are parameters that define the specific line.\\n'"
            ],
            "application/vnd.google.colaboratory.intrinsic+json": {
              "type": "string"
            }
          },
          "metadata": {},
          "execution_count": 1
        }
      ],
      "source": [
        "# What is a parameter?\n",
        "\n",
        "'''\n",
        "A parameter is a value or a variable that helps define or limit a system, function, or process. A parameter is a constant or a variable that characterizes a system or a function. For example, in an equation like\n",
        "y=mx+b, the slope (m) and the y-intercept (b) are parameters that define the specific line.\n",
        "'''"
      ]
    },
    {
      "cell_type": "code",
      "source": [
        "# What is correlation? What does negative correlation mean?\n",
        "'''\n",
        "Correlation is a statistical term that describes the relationship between two or more variables. It indicates whether and how strongly pairs of variables are related.\n",
        "A negative correlation means that as one variable increases, the other decreases, and vice versa. The two variables move in opposite directions. In other words:\n",
        "\n",
        "When one variable goes up, the other goes down.\n",
        "When one variable goes down, the other goes up.\n",
        "'''"
      ],
      "metadata": {
        "colab": {
          "base_uri": "https://localhost:8080/",
          "height": 70
        },
        "collapsed": true,
        "id": "QsPx9rTAliXo",
        "outputId": "1ed6755a-d043-4aa9-f5b5-8910d1f2bb37"
      },
      "execution_count": 2,
      "outputs": [
        {
          "output_type": "execute_result",
          "data": {
            "text/plain": [
              "'\\nCorrelation is a statistical term that describes the relationship between two or more variables. It indicates whether and how strongly pairs of variables are related. \\nA negative correlation means that as one variable increases, the other decreases, and vice versa. The two variables move in opposite directions. In other words:\\n\\nWhen one variable goes up, the other goes down.\\nWhen one variable goes down, the other goes up.\\n'"
            ],
            "application/vnd.google.colaboratory.intrinsic+json": {
              "type": "string"
            }
          },
          "metadata": {},
          "execution_count": 2
        }
      ]
    },
    {
      "cell_type": "code",
      "source": [
        "# Define Machine Learning. What are the main components in Machine Learning?\n",
        "'''\n",
        "Machine Learning is a branch of artificial intelligence (AI) that enables computers or systems to learn from data and make predictions or decisions without being explicitly programmed for each task.\n",
        "In other words, ML allows systems to improve their performance automatically through experience, often by recognizing patterns and structures within data.\n",
        "Main Components of Machine Learning : Data, Algorithms/Models, Features, Training, Evaluation, Prediction, Optimization, Feedback/Model Updating\n",
        "'''"
      ],
      "metadata": {
        "colab": {
          "base_uri": "https://localhost:8080/",
          "height": 87
        },
        "collapsed": true,
        "id": "jjH548xEl5BL",
        "outputId": "8c7d86c4-9dc8-4ef7-f052-73c2b173b12a"
      },
      "execution_count": 3,
      "outputs": [
        {
          "output_type": "execute_result",
          "data": {
            "text/plain": [
              "'\\nMachine Learning is a branch of artificial intelligence (AI) that enables computers or systems to learn from data and make predictions or decisions without being explicitly programmed for each task. \\nIn other words, ML allows systems to improve their performance automatically through experience, often by recognizing patterns and structures within data.\\nMain Components of Machine Learning : Data, Algorithms/Models, Features, Training, Evaluation, Prediction, Optimization, Feedback/Model Updating\\n'"
            ],
            "application/vnd.google.colaboratory.intrinsic+json": {
              "type": "string"
            }
          },
          "metadata": {},
          "execution_count": 3
        }
      ]
    },
    {
      "cell_type": "code",
      "source": [
        "# What are continuous and categorical variables?\n",
        "'''\n",
        "Continuous Variables: Quantitative, measurable, and can take an infinite number of values within a range (e.g., height, weight, temperature).\n",
        "Categorical Variables: Qualitative, represent groups or categories, and can be either nominal (no order) or ordinal (ordered categories) (e.g., color, gender, rating scale).\n",
        "\n",
        "'''"
      ],
      "metadata": {
        "colab": {
          "base_uri": "https://localhost:8080/",
          "height": 70
        },
        "collapsed": true,
        "id": "zqBhMDv3mt3H",
        "outputId": "91d565b7-d17b-41a2-8315-53e014fcdebc"
      },
      "execution_count": 4,
      "outputs": [
        {
          "output_type": "execute_result",
          "data": {
            "text/plain": [
              "'\\nContinuous Variables: Quantitative, measurable, and can take an infinite number of values within a range (e.g., height, weight, temperature).\\nCategorical Variables: Qualitative, represent groups or categories, and can be either nominal (no order) or ordinal (ordered categories) (e.g., color, gender, rating scale).\\n\\n'"
            ],
            "application/vnd.google.colaboratory.intrinsic+json": {
              "type": "string"
            }
          },
          "metadata": {},
          "execution_count": 4
        }
      ]
    },
    {
      "cell_type": "code",
      "source": [
        "# How do we handle categorical variables in Machine Learning? What are the common techniques?\n",
        "\n",
        "'''\n",
        "Handling categorical variables in machine learning is an essential part of the data preprocessing process. Machine learning algorithms typically work with numerical data, so categorical data needs to be transformed into a numerical format before it can be used for modeling.\n",
        "Common Techniques for Handling Categorical Variables:\n",
        "Label Encoding\n",
        "One-Hot Encoding\n",
        "Ordinal Encoding\n",
        "Target guided ordinal Encoding (Mean Encoding)\n",
        "'''"
      ],
      "metadata": {
        "colab": {
          "base_uri": "https://localhost:8080/",
          "height": 70
        },
        "collapsed": true,
        "id": "bzVwe3G6nt36",
        "outputId": "48b0899d-b8b6-4d6b-8916-c2053b3e9a9c"
      },
      "execution_count": 5,
      "outputs": [
        {
          "output_type": "execute_result",
          "data": {
            "text/plain": [
              "'\\nHandling categorical variables in machine learning is an essential part of the data preprocessing process. Machine learning algorithms typically work with numerical data, so categorical data needs to be transformed into a numerical format before it can be used for modeling.\\nCommon Techniques for Handling Categorical Variables:\\nLabel Encoding\\nOne-Hot Encoding\\nOrdinal Encoding\\nTarget guided ordinal Encoding (Mean Encoding)\\n'"
            ],
            "application/vnd.google.colaboratory.intrinsic+json": {
              "type": "string"
            }
          },
          "metadata": {},
          "execution_count": 5
        }
      ]
    },
    {
      "cell_type": "code",
      "source": [
        "# What do you mean by training and testing a dataset?\n",
        "\n",
        "'''\n",
        "Training a dataset involves using a subset of the data to teach the model the relationships between input features and target labels.\n",
        "Testing a dataset involves evaluating the model on a separate, unseen portion of the data to assess its ability to generalize to new examples.\n",
        "Splitting the data into training and testing sets helps ensure the model's robustness and ability to handle real-world data.\n",
        "\n",
        "'''"
      ],
      "metadata": {
        "colab": {
          "base_uri": "https://localhost:8080/",
          "height": 70
        },
        "collapsed": true,
        "id": "vPbpFBpqoYus",
        "outputId": "b3312519-311d-4a8c-c083-93e2b76e0a14"
      },
      "execution_count": 6,
      "outputs": [
        {
          "output_type": "execute_result",
          "data": {
            "text/plain": [
              "\"\\nTraining a dataset involves using a subset of the data to teach the model the relationships between input features and target labels.\\nTesting a dataset involves evaluating the model on a separate, unseen portion of the data to assess its ability to generalize to new examples.\\nSplitting the data into training and testing sets helps ensure the model's robustness and ability to handle real-world data.\\n\\n\""
            ],
            "application/vnd.google.colaboratory.intrinsic+json": {
              "type": "string"
            }
          },
          "metadata": {},
          "execution_count": 6
        }
      ]
    },
    {
      "cell_type": "code",
      "source": [
        "# What is sklearn.preprocessing?\n",
        "\n",
        "'''\n",
        "sklearn.preprocessing is a module in Scikit-learn, a popular Python library for machine learning. This module provides a range of functions and classes for preprocessing data before feeding it into machine learning models.\n",
        "Key Functions and Classes in sklearn.preprocessing:\n",
        "\n",
        "1. Scaling and Normalization: Transforms each feature to have a mean of 0 and a standard deviation of 1.\n",
        "2. MinMaxScaler : Scales the features to a specified range, usually [0, 1], by subtracting the minimum value of the feature and dividing by the range (max - min).\n",
        "3. OneHotEncoder: Each category is represented by a separate binary column where 1 indicates the presence of the category, and 0 indicates absence.\n",
        "4. LabelEncoder: Converts categorical labels (target variable) into numeric labels (integers). Each category is assigned a unique integer.\n",
        "'''"
      ],
      "metadata": {
        "colab": {
          "base_uri": "https://localhost:8080/",
          "height": 122
        },
        "collapsed": true,
        "id": "h_6-xTRpovRy",
        "outputId": "36573cde-3213-4106-f096-a89d98e492c8"
      },
      "execution_count": 7,
      "outputs": [
        {
          "output_type": "execute_result",
          "data": {
            "text/plain": [
              "'\\nsklearn.preprocessing is a module in Scikit-learn, a popular Python library for machine learning. This module provides a range of functions and classes for preprocessing data before feeding it into machine learning models.\\nKey Functions and Classes in sklearn.preprocessing:\\n\\n1. Scaling and Normalization: Transforms each feature to have a mean of 0 and a standard deviation of 1.\\n2. MinMaxScaler : Scales the features to a specified range, usually [0, 1], by subtracting the minimum value of the feature and dividing by the range (max - min).\\n3. OneHotEncoder: Each category is represented by a separate binary column where 1 indicates the presence of the category, and 0 indicates absence.\\n4. LabelEncoder: Converts categorical labels (target variable) into numeric labels (integers). Each category is assigned a unique integer.\\n'"
            ],
            "application/vnd.google.colaboratory.intrinsic+json": {
              "type": "string"
            }
          },
          "metadata": {},
          "execution_count": 7
        }
      ]
    },
    {
      "cell_type": "code",
      "source": [
        "# What is a Test set?\n",
        "'''\n",
        "A test set is a critical component of the machine learning process used to evaluate how well a model generalizes to unseen data. It helps assess the\n",
        "model's performance after training and ensures that the model is not overfitting to the training data, providing a fair measure of its predictive ability.\n",
        "\n",
        "'''"
      ],
      "metadata": {
        "colab": {
          "base_uri": "https://localhost:8080/",
          "height": 70
        },
        "collapsed": true,
        "id": "TExKx6kZqfAI",
        "outputId": "22c9e04d-0180-48f5-b3c4-4014e9139af3"
      },
      "execution_count": 8,
      "outputs": [
        {
          "output_type": "execute_result",
          "data": {
            "text/plain": [
              "\"\\nA test set is a critical component of the machine learning process used to evaluate how well a model generalizes to unseen data. It helps assess the \\nmodel's performance after training and ensures that the model is not overfitting to the training data, providing a fair measure of its predictive ability.\\n\\n\""
            ],
            "application/vnd.google.colaboratory.intrinsic+json": {
              "type": "string"
            }
          },
          "metadata": {},
          "execution_count": 8
        }
      ]
    },
    {
      "cell_type": "code",
      "source": [
        "# How do we split data for model fitting (training and testing) in Python? How do you approach a Machine Learning problem?\n",
        "'''\n",
        "1. Define the problem and set evaluation metrics.\n",
        "2. Collect and clean the data.\n",
        "3. Preprocess the data (scaling, encoding, etc.).\n",
        "4. Split the data into training and testing sets.\n",
        "5. Select a machine learning model.\n",
        "6. Train the model on the training set.\n",
        "7. Evaluate the model on the test set.\n",
        "8. Fine-tune the model for better performance.\n",
        "9. Optionally validate using cross-validation.\n",
        "10. Deploy the model to make predictions.\n",
        "'''"
      ],
      "metadata": {
        "colab": {
          "base_uri": "https://localhost:8080/",
          "height": 70
        },
        "collapsed": true,
        "id": "TlN9u_farBK1",
        "outputId": "32ba91ac-d854-44b2-e40b-baf054a3e48a"
      },
      "execution_count": 9,
      "outputs": [
        {
          "output_type": "execute_result",
          "data": {
            "text/plain": [
              "'\\n1. Define the problem and set evaluation metrics.\\n2. Collect and clean the data.\\n3. Preprocess the data (scaling, encoding, etc.).\\n4. Split the data into training and testing sets.\\n5. Select a machine learning model.\\n6. Train the model on the training set.\\n7. Evaluate the model on the test set.\\n8. Fine-tune the model for better performance.\\n9. Optionally validate using cross-validation.\\n10. Deploy the model to make predictions.\\n'"
            ],
            "application/vnd.google.colaboratory.intrinsic+json": {
              "type": "string"
            }
          },
          "metadata": {},
          "execution_count": 9
        }
      ]
    },
    {
      "cell_type": "code",
      "source": [
        "# Why do we have to perform EDA before fitting a model to the data?\n",
        "'''\n",
        "Performing Exploratory Data Analysis (EDA) is an essential step before fitting a model because it:\n",
        "\n",
        "Helps understand the data and identify potential issues like missing values, outliers, or inconsistencies.\n",
        "Guides data preprocessing and feature engineering decisions.\n",
        "Allows you to visualize and identify relationships between variables, including correlations and distributions.\n",
        "Improves model performance by ensuring clean, well-prepared, and relevant data is used in the modeling process.\n",
        "'''"
      ],
      "metadata": {
        "colab": {
          "base_uri": "https://localhost:8080/",
          "height": 87
        },
        "collapsed": true,
        "id": "-WHJnN4lrUe3",
        "outputId": "bf0b1dda-3ba5-4776-b99f-cdf0c149951c"
      },
      "execution_count": 10,
      "outputs": [
        {
          "output_type": "execute_result",
          "data": {
            "text/plain": [
              "'\\nPerforming Exploratory Data Analysis (EDA) is an essential step before fitting a model because it:\\n\\nHelps understand the data and identify potential issues like missing values, outliers, or inconsistencies.\\nGuides data preprocessing and feature engineering decisions.\\nAllows you to visualize and identify relationships between variables, including correlations and distributions.\\nImproves model performance by ensuring clean, well-prepared, and relevant data is used in the modeling process.\\n'"
            ],
            "application/vnd.google.colaboratory.intrinsic+json": {
              "type": "string"
            }
          },
          "metadata": {},
          "execution_count": 10
        }
      ]
    },
    {
      "cell_type": "code",
      "source": [
        "# How can you find correlation between variables in Python?\n",
        "\n",
        "'''\n",
        "To find the correlation between variables in Python:\n",
        "\n",
        "Pandas: Use df.corr() to compute the Pearson correlation matrix.\n",
        "Seaborn: Visualize the correlation matrix with sns.heatmap() for easy interpretation.\n",
        "Other Methods: You can use Spearman or Kendall correlation methods based on the nature of the data.\n",
        "Categorical Data: Encode categorical variables before calculating correlations.\n",
        "'''\n"
      ],
      "metadata": {
        "colab": {
          "base_uri": "https://localhost:8080/",
          "height": 70
        },
        "collapsed": true,
        "id": "afqUTLtsrn89",
        "outputId": "f10d099d-6cbf-4219-8d67-0cc505c33a5f"
      },
      "execution_count": 11,
      "outputs": [
        {
          "output_type": "execute_result",
          "data": {
            "text/plain": [
              "'\\nTo find the correlation between variables in Python:\\n\\nPandas: Use df.corr() to compute the Pearson correlation matrix.\\nSeaborn: Visualize the correlation matrix with sns.heatmap() for easy interpretation.\\nOther Methods: You can use Spearman or Kendall correlation methods based on the nature of the data.\\nCategorical Data: Encode categorical variables before calculating correlations.\\n'"
            ],
            "application/vnd.google.colaboratory.intrinsic+json": {
              "type": "string"
            }
          },
          "metadata": {},
          "execution_count": 11
        }
      ]
    },
    {
      "cell_type": "code",
      "source": [
        "# What is causation? Explain difference between correlation and causation with an example\n",
        "'''\n",
        "Causation refers to a relationship where one event or variable directly causes another. In other words, a change in one variable leads to a specific change in another. This is a cause-and-effect relationship. For example, if Variable A causes Variable B, it means that changes in A directly bring about changes in B.\n",
        "difference between correlation and causation:\n",
        "Correlation measures the association between two variables. When two variables are correlated, it means they tend to change together in some way (e.g., as one increases, the other also increases or decreases). However, correlation does not imply that one variable causes the other.\n",
        "\n",
        "Causation implies that one variable directly influences or causes a change in another. It goes beyond correlation to establish a cause-and-effect relationship.\n",
        "'''"
      ],
      "metadata": {
        "colab": {
          "base_uri": "https://localhost:8080/",
          "height": 122
        },
        "collapsed": true,
        "id": "9hc_rNCHwa4n",
        "outputId": "76aee3a7-8704-4612-da9d-f1de8f269a6b"
      },
      "execution_count": 12,
      "outputs": [
        {
          "output_type": "execute_result",
          "data": {
            "text/plain": [
              "'\\nCausation refers to a relationship where one event or variable directly causes another. In other words, a change in one variable leads to a specific change in another. This is a cause-and-effect relationship. For example, if Variable A causes Variable B, it means that changes in A directly bring about changes in B.\\ndifference between correlation and causation:\\nCorrelation measures the association between two variables. When two variables are correlated, it means they tend to change together in some way (e.g., as one increases, the other also increases or decreases). However, correlation does not imply that one variable causes the other.\\n\\nCausation implies that one variable directly influences or causes a change in another. It goes beyond correlation to establish a cause-and-effect relationship.\\n'"
            ],
            "application/vnd.google.colaboratory.intrinsic+json": {
              "type": "string"
            }
          },
          "metadata": {},
          "execution_count": 12
        }
      ]
    },
    {
      "cell_type": "code",
      "source": [
        "# What is sklearn.linear_model ?\n",
        "'''\n",
        "sklearn.linear_model is a module in the scikit-learn library that provides implementations of various linear models used for regression and classification tasks. These models assume that the relationship between the input features and the target variable is linear, meaning the target is a linear combination of the input features.\n",
        "\n",
        "This module includes several important algorithms for predictive modeling, including:\n",
        "\n",
        "Linear Regression for regression tasks.\n",
        "Logistic Regression for classification tasks.\n",
        "Ridge and Lasso regression for regularized linear regression.\n",
        "ElasticNet for combining Ridge and Lasso regularization.\n",
        "Perceptron and SGDClassifier for linear classifiers based on stochastic gradient descent.\n",
        "BayesianRidge for regression with probabilistic outputs.\n",
        "'''"
      ],
      "metadata": {
        "colab": {
          "base_uri": "https://localhost:8080/",
          "height": 122
        },
        "collapsed": true,
        "id": "AwYF14jRxuYa",
        "outputId": "da8a4328-b925-4358-e70e-41b87ba94325"
      },
      "execution_count": 13,
      "outputs": [
        {
          "output_type": "execute_result",
          "data": {
            "text/plain": [
              "'\\nsklearn.linear_model is a module in the scikit-learn library that provides implementations of various linear models used for regression and classification tasks. These models assume that the relationship between the input features and the target variable is linear, meaning the target is a linear combination of the input features.\\n\\nThis module includes several important algorithms for predictive modeling, including:\\n\\nLinear Regression for regression tasks.\\nLogistic Regression for classification tasks.\\nRidge and Lasso regression for regularized linear regression.\\nElasticNet for combining Ridge and Lasso regularization.\\nPerceptron and SGDClassifier for linear classifiers based on stochastic gradient descent.\\nBayesianRidge for regression with probabilistic outputs.\\n'"
            ],
            "application/vnd.google.colaboratory.intrinsic+json": {
              "type": "string"
            }
          },
          "metadata": {},
          "execution_count": 13
        }
      ]
    },
    {
      "cell_type": "code",
      "source": [
        "# What does model.fit() do? What arguments must be given?\n",
        "'''\n",
        "The model.fit() method in scikit-learn is used to train a machine learning model. When you call this method, the model learns from the provided\n",
        "data by adjusting its internal parameters based on the input data (features) and the corresponding target data (labels or outcomes). In other words,\n",
        "fit() is responsible for fitting the model to the data, allowing the model to \"learn\" patterns and relationships in the dataset.\n",
        "\n",
        "Arguments that must be given to model.fit()\n",
        "\n",
        "1. For Supervised Learning (Regression/Classification): X (features),y (target)\n",
        "2. For Unsupervised Learning (Clustering, Dimensionality Reduction): X (features)\n",
        "'''"
      ],
      "metadata": {
        "colab": {
          "base_uri": "https://localhost:8080/",
          "height": 104
        },
        "collapsed": true,
        "id": "mkF5__xtyh81",
        "outputId": "e0fa2c3c-85d4-493b-f429-e8cd6db32b29"
      },
      "execution_count": 14,
      "outputs": [
        {
          "output_type": "execute_result",
          "data": {
            "text/plain": [
              "'\\nThe model.fit() method in scikit-learn is used to train a machine learning model. When you call this method, the model learns from the provided \\ndata by adjusting its internal parameters based on the input data (features) and the corresponding target data (labels or outcomes). In other words, \\nfit() is responsible for fitting the model to the data, allowing the model to \"learn\" patterns and relationships in the dataset.\\n\\nArguments that must be given to model.fit()\\n\\n1. For Supervised Learning (Regression/Classification): X (features),y (target)\\n2. For Unsupervised Learning (Clustering, Dimensionality Reduction): X (features) \\n'"
            ],
            "application/vnd.google.colaboratory.intrinsic+json": {
              "type": "string"
            }
          },
          "metadata": {},
          "execution_count": 14
        }
      ]
    },
    {
      "cell_type": "code",
      "source": [
        "# What does model.predict() do? What arguments must be given?\n",
        "\n",
        "'''\n",
        "The model.predict() method in machine learning is used to make predictions or inferences on new, unseen data after the model has been trained using\n",
        "the model.fit() method. This function applies the learned model to input data and generates predicted outputs based on the relationships it learned\n",
        "during training.\n",
        "\n",
        "In supervised learning, predict() generates predicted labels (for classification) or predicted values (for regression).\n",
        "In unsupervised learning, predict() can assign new data points to clusters or provide predictions for other tasks depending on the model type.\n",
        "\n",
        "Arguments that must be given to model.predict()\n",
        "The only required argument for predict() is X—the input features for which predictions need to be made. The model should have already been trained\n",
        "with model.fit() on some data, and predict() uses this training to predict outputs on the new data.\n",
        "'''"
      ],
      "metadata": {
        "colab": {
          "base_uri": "https://localhost:8080/",
          "height": 122
        },
        "collapsed": true,
        "id": "2SFYqTGGzgiR",
        "outputId": "69a21000-e2f4-4b90-e594-0621b77866e0"
      },
      "execution_count": 15,
      "outputs": [
        {
          "output_type": "execute_result",
          "data": {
            "text/plain": [
              "'\\nThe model.predict() method in machine learning is used to make predictions or inferences on new, unseen data after the model has been trained using \\nthe model.fit() method. This function applies the learned model to input data and generates predicted outputs based on the relationships it learned \\nduring training.\\n\\nIn supervised learning, predict() generates predicted labels (for classification) or predicted values (for regression).\\nIn unsupervised learning, predict() can assign new data points to clusters or provide predictions for other tasks depending on the model type.\\n\\nArguments that must be given to model.predict()\\nThe only required argument for predict() is X—the input features for which predictions need to be made. The model should have already been trained \\nwith model.fit() on some data, and predict() uses this training to predict outputs on the new data.\\n'"
            ],
            "application/vnd.google.colaboratory.intrinsic+json": {
              "type": "string"
            }
          },
          "metadata": {},
          "execution_count": 15
        }
      ]
    },
    {
      "cell_type": "code",
      "source": [
        "# What is feature scaling? How does it help in Machine Learning\n",
        "'''\n",
        "Feature scaling refers to the process of normalizing or standardizing the range of independent variables (features) in a dataset.\n",
        "It helps improve convergence of gradient-based algorithms, prevents bias toward features with larger ranges in distance-based algorithms,\n",
        "and ensures equal regularization in models like Ridge and Lasso.\n",
        "Common scaling techniques include Normalization (Min-Max Scaling) and Standardization (Z-Score Scaling), depending on the dataset and the model type.\n",
        "'''"
      ],
      "metadata": {
        "colab": {
          "base_uri": "https://localhost:8080/",
          "height": 87
        },
        "collapsed": true,
        "id": "Pxic-Xwa0fx7",
        "outputId": "34800746-743e-4784-8bc1-d1dbfb595bc1"
      },
      "execution_count": 16,
      "outputs": [
        {
          "output_type": "execute_result",
          "data": {
            "text/plain": [
              "'\\nFeature scaling refers to the process of normalizing or standardizing the range of independent variables (features) in a dataset.\\nIt helps improve convergence of gradient-based algorithms, prevents bias toward features with larger ranges in distance-based algorithms, \\nand ensures equal regularization in models like Ridge and Lasso.\\nCommon scaling techniques include Normalization (Min-Max Scaling) and Standardization (Z-Score Scaling), depending on the dataset and the model type.\\n'"
            ],
            "application/vnd.google.colaboratory.intrinsic+json": {
              "type": "string"
            }
          },
          "metadata": {},
          "execution_count": 16
        }
      ]
    },
    {
      "cell_type": "code",
      "source": [
        "# How do we perform scaling in Python?\n",
        "'''\n",
        "In Python, scaling of features (also called feature scaling) is commonly performed using the sklearn.preprocessing module, which provides several\n",
        "tools for scaling data. The two most common methods of scaling are Normalization (Min-Max Scaling) and Standardization (Z-score Scaling).\n",
        "\n",
        "Min-Max Scaling is used to transform data to a specific range, usually [0, 1].\n",
        "Standardization (Z-Score Scaling) transforms data to have a mean of 0 and a standard deviation of 1.\n",
        "Scaling can be easily performed using MinMaxScaler or StandardScaler in the sklearn.preprocessing module.\n",
        "\n",
        "'''"
      ],
      "metadata": {
        "colab": {
          "base_uri": "https://localhost:8080/",
          "height": 87
        },
        "collapsed": true,
        "id": "MqDTNhT61Iss",
        "outputId": "40fcc4f3-7f07-45f7-c94f-3574cb1d22bb"
      },
      "execution_count": 19,
      "outputs": [
        {
          "output_type": "execute_result",
          "data": {
            "text/plain": [
              "'\\nIn Python, scaling of features (also called feature scaling) is commonly performed using the sklearn.preprocessing module, which provides several \\ntools for scaling data. The two most common methods of scaling are Normalization (Min-Max Scaling) and Standardization (Z-score Scaling).\\n\\nMin-Max Scaling is used to transform data to a specific range, usually [0, 1].\\nStandardization (Z-Score Scaling) transforms data to have a mean of 0 and a standard deviation of 1.\\nScaling can be easily performed using MinMaxScaler or StandardScaler in the sklearn.preprocessing module.\\n\\n'"
            ],
            "application/vnd.google.colaboratory.intrinsic+json": {
              "type": "string"
            }
          },
          "metadata": {},
          "execution_count": 19
        }
      ]
    },
    {
      "cell_type": "code",
      "source": [
        "# Explain data encoding?\n",
        "'''\n",
        "Data encoding refers to the process of converting categorical data (non-numeric data) into a numerical format that machine learning algorithms can\n",
        "understand. Most machine learning algorithms require numerical input, and since many real-world datasets contain categorical variables (e.g., \"red,\"\n",
        "\"blue,\" \"green\" for color or \"male,\" \"female\" for gender), encoding is essential to convert these categorical variables into a numerical form suitable for modeling.\n",
        "\n",
        "Common Techniques for Data Encoding\n",
        "1. Label Encoding (Integer Encoding).\n",
        "2. One-Hot Encoding\n",
        "3. Ordinal Encoding.\n",
        "4. Target guided ordinal Encoding (Mean Encoding)\n",
        "'''"
      ],
      "metadata": {
        "colab": {
          "base_uri": "https://localhost:8080/",
          "height": 104
        },
        "collapsed": true,
        "id": "budF5HIY1Pvz",
        "outputId": "8c444f2e-80bb-4698-b84d-3cc20ad3b596"
      },
      "execution_count": 18,
      "outputs": [
        {
          "output_type": "execute_result",
          "data": {
            "text/plain": [
              "'\\nData encoding refers to the process of converting categorical data (non-numeric data) into a numerical format that machine learning algorithms can \\nunderstand. Most machine learning algorithms require numerical input, and since many real-world datasets contain categorical variables (e.g., \"red,\"\\n\"blue,\" \"green\" for color or \"male,\" \"female\" for gender), encoding is essential to convert these categorical variables into a numerical form suitable for modeling.\\n\\nCommon Techniques for Data Encoding\\n1. Label Encoding (Integer Encoding).\\n2. One-Hot Encoding\\n3. Ordinal Encoding.\\n4. Target guided ordinal Encoding (Mean Encoding)\\n'"
            ],
            "application/vnd.google.colaboratory.intrinsic+json": {
              "type": "string"
            }
          },
          "metadata": {},
          "execution_count": 18
        }
      ]
    },
    {
      "cell_type": "code",
      "source": [],
      "metadata": {
        "id": "uDUxzte517x7"
      },
      "execution_count": null,
      "outputs": []
    }
  ]
}